{
 "cells": [
  {
   "cell_type": "markdown",
   "metadata": {},
   "source": [
    "##### インストール"
   ]
  },
  {
   "cell_type": "code",
   "execution_count": 2,
   "metadata": {},
   "outputs": [
    {
     "name": "stdout",
     "output_type": "stream",
     "text": [
      "Collecting blueqat\n",
      "  Downloading blueqat-0.3.17-py3-none-any.whl (53 kB)\n",
      "\u001b[K     |████████████████████████████████| 53 kB 32 kB/s eta 0:00:01:01\n",
      "\u001b[?25hRequirement already satisfied: scipy>=1.1.0 in ./opt/anaconda3/lib/python3.7/site-packages (from blueqat) (1.3.1)\n",
      "Requirement already satisfied: numpy~=1.12 in ./opt/anaconda3/lib/python3.7/site-packages (from blueqat) (1.17.2)\n",
      "Installing collected packages: blueqat\n",
      "Successfully installed blueqat-0.3.17\n",
      "\u001b[33mWARNING: You are using pip version 20.0.2; however, version 20.1.1 is available.\n",
      "You should consider upgrading via the '/Users/humu/opt/anaconda3/bin/python -m pip install --upgrade pip' command.\u001b[0m\n"
     ]
    }
   ],
   "source": [
    "!pip3 install blueqat"
   ]
  },
  {
   "cell_type": "code",
   "execution_count": null,
   "metadata": {},
   "outputs": [],
   "source": []
  },
  {
   "cell_type": "code",
   "execution_count": 4,
   "metadata": {},
   "outputs": [
    {
     "name": "stdout",
     "output_type": "stream",
     "text": [
      "Requirement already satisfied: blueqat in ./opt/anaconda3/lib/python3.7/site-packages (0.3.17)\r\n",
      "Requirement already satisfied: numpy~=1.12 in ./opt/anaconda3/lib/python3.7/site-packages (from blueqat) (1.17.2)\r\n",
      "Requirement already satisfied: scipy>=1.1.0 in ./opt/anaconda3/lib/python3.7/site-packages (from blueqat) (1.3.1)\r\n"
     ]
    }
   ],
   "source": [
    "!pip3 install blueqat"
   ]
  },
  {
   "cell_type": "code",
   "execution_count": 5,
   "metadata": {},
   "outputs": [
    {
     "name": "stdout",
     "output_type": "stream",
     "text": [
      "Circuit(0).\n",
      "Circuit(3).\n"
     ]
    }
   ],
   "source": [
    "from blueqat import Circuit\n",
    "import math\n",
    "\n",
    "#number of qubit is not specified\n",
    "c1 = Circuit()\n",
    "\n",
    "#if you want to specified the number of qubit\n",
    "c2 = Circuit(3) #3qubits\n",
    "print(c1)\n",
    "print(c2)"
   ]
  },
  {
   "cell_type": "code",
   "execution_count": 6,
   "metadata": {},
   "outputs": [
    {
     "name": "stdout",
     "output_type": "stream",
     "text": [
      "Circuit(1).h[0].x[0].z[0]\n"
     ]
    }
   ],
   "source": [
    "# write as chain\n",
    "print(Circuit().h[0].x[0].z[0])"
   ]
  },
  {
   "cell_type": "code",
   "execution_count": 7,
   "metadata": {},
   "outputs": [
    {
     "data": {
      "text/plain": [
       "{'ops': [], '_backends': {}, '_default_backend': None, 'n_qubits': 3}"
      ]
     },
     "execution_count": 7,
     "metadata": {},
     "output_type": "execute_result"
    }
   ],
   "source": [
    "vars(c2)"
   ]
  },
  {
   "cell_type": "code",
   "execution_count": 84,
   "metadata": {},
   "outputs": [
    {
     "data": {
      "image/png": "[encoded data removed]",
      "text/plain": [
       "<Figure size 432x288 with 1 Axes>"
      ]
     },
     "metadata": {},
     "output_type": "display_data"
    }
   ],
   "source": [
    "import networkx as nx\n",
    "import matplotlib.pyplot as plt\n",
    "\n",
    "options = {'node_color': '#efefef','node_size': 1200,'with_labels':'True'}\n",
    "\n",
    "G = nx.Graph()\n",
    "G.add_nodes_from([0,1,2,3])\n",
    "G.add_edges_from([(0,1),(0,3),(1,2),(2,3)])\n",
    "nx.draw(G, **options)"
   ]
  },
  {
   "cell_type": "code",
   "execution_count": 9,
   "metadata": {},
   "outputs": [
    {
     "name": "stdout",
     "output_type": "stream",
     "text": [
      "Requirement already up-to-date: blueqat in ./opt/anaconda3/lib/python3.7/site-packages (0.3.17)\r\n",
      "Requirement already satisfied, skipping upgrade: numpy~=1.12 in ./opt/anaconda3/lib/python3.7/site-packages (from blueqat) (1.17.2)\r\n",
      "Requirement already satisfied, skipping upgrade: scipy>=1.1.0 in ./opt/anaconda3/lib/python3.7/site-packages (from blueqat) (1.3.1)\r\n"
     ]
    }
   ],
   "source": [
    "!pip install -U blueqat"
   ]
  },
  {
   "cell_type": "code",
   "execution_count": 10,
   "metadata": {},
   "outputs": [
    {
     "data": {
      "text/plain": [
       "[0, 1, 0, 1, 0]"
      ]
     },
     "execution_count": 10,
     "metadata": {},
     "output_type": "execute_result"
    }
   ],
   "source": [
    "import blueqat.opt as wq\n",
    "import numpy as np\n",
    "a = wq.opt()\n",
    "a.J = [[0,0.5,0,0.5,0],[0,0,0.5,0,0],[0,0,0,0.5,0.5],[0,0,0,0,0.5],[0,0,0,0,0]]\n",
    "a.sa()\n"
   ]
  },
  {
   "cell_type": "code",
   "execution_count": 88,
   "metadata": {},
   "outputs": [
    {
     "name": "stdout",
     "output_type": "stream",
     "text": [
      "[1, 0, 1, 0]\n"
     ]
    }
   ],
   "source": [
    "\n",
    "'''\n",
    "blueqat.opt python base 量子アニーリング型 SDK\n",
    "※ QUBO：Quadratic Unconstrained Binary Optimization （二次制約なし二値最適化）の行列を使ってマシンにかける\n",
    "QUBOorイジリングを使用\n",
    "sa→シミュレーテッドアニーリングの略で、温度を使ったアルゴリズムで\n",
    "'''\n",
    "\n",
    "from blueqat.opt import Opt\n",
    "c = Opt().add(\"(2*q0-1)*(2*q1-1)+(2*q0-1)*(2*q3-1)+(2*q1-1)*(2*q2-1)+(2*q2-1)*(2*q3-1)\")\n",
    "print(c.run())"
   ]
  },
  {
   "cell_type": "code",
   "execution_count": 89,
   "metadata": {},
   "outputs": [
    {
     "data": {
      "text/plain": [
       "{'Ts': 5,\n",
       " 'Tf': 0.02,\n",
       " 'R': 0.95,\n",
       " 'ite': 1000,\n",
       " 'qubo': array([[-4.,  4.,  0.,  4.],\n",
       "        [ 0., -4.,  4.,  0.],\n",
       "        [ 0.,  0., -4.,  4.],\n",
       "        [ 0.,  0.,  0., -4.]]),\n",
       " 'J': array([[0., 1., 0., 1.],\n",
       "        [0., 0., 1., 0.],\n",
       "        [0., 0., 0., 1.],\n",
       "        [0., 0., 0., 0.]]),\n",
       " 'ep': -4.0,\n",
       " 'E': [-4.0,\n",
       "  -4.0,\n",
       "  -8.0,\n",
       "  -8.0,\n",
       "  -8.0,\n",
       "  -8.0,\n",
       "  -4.0,\n",
       "  -4.0,\n",
       "  -8.0,\n",
       "  -8.0,\n",
       "  -8.0,\n",
       "  -8.0,\n",
       "  -8.0,\n",
       "  -8.0,\n",
       "  -8.0,\n",
       "  -8.0,\n",
       "  -8.0,\n",
       "  -8.0,\n",
       "  -8.0,\n",
       "  -8.0,\n",
       "  -8.0],\n",
       " 'dwaveendpoint': 'https://cloud.dwavesys.com/sapi',\n",
       " 'dwavetoken': '',\n",
       " 'dwavesolver': 'DW_2000Q_VFYC_5'}"
      ]
     },
     "execution_count": 89,
     "metadata": {},
     "output_type": "execute_result"
    }
   ],
   "source": [
    "vars(c)"
   ]
  },
  {
   "cell_type": "code",
   "execution_count": 17,
   "metadata": {},
   "outputs": [
    {
     "data": {
      "text/plain": [
       "[0, 0, 0]"
      ]
     },
     "execution_count": 17,
     "metadata": {},
     "output_type": "execute_result"
    }
   ],
   "source": [
    "import blueqat.opt as wq\n",
    "a = wq.opt()\n",
    "a.qubo = [[4,-4,-4],[0,4,-4],[0,0,4]]\n",
    "a.sa() #=> array([1, 1, 1])"
   ]
  },
  {
   "cell_type": "code",
   "execution_count": 19,
   "metadata": {},
   "outputs": [
    {
     "name": "stdout",
     "output_type": "stream",
     "text": [
      "(((1, 1), 0.9397285397592132), ((1, 0), 0.02764876797238268), ((0, 1), 0.027648767972382637), ((0, 0), 0.004973924296021115))\n"
     ]
    }
   ],
   "source": [
    "from blueqat import Circuit\n",
    "from blueqat import vqe\n",
    "from blueqat.pauli import qubo_bit as q\n",
    "\n",
    "#The entanglement of 2qubits\n",
    "Circuit().h[0].cx[0,1].m[:].run(shots=100)\n",
    "\n",
    "#The quantum-classical hybrid algorithm to find eigenvalue of matrix\n",
    "hamiltonian = -3*q(0)-3*q(1)+2*q(0)*q(1)\n",
    "result = vqe.Vqe(vqe.QaoaAnsatz(hamiltonian, step=2)).run()\n",
    "print(result.most_common(12))"
   ]
  },
  {
   "cell_type": "code",
   "execution_count": 83,
   "metadata": {},
   "outputs": [
    {
     "name": "stdout",
     "output_type": "stream",
     "text": [
      "Optimization terminated successfully.\n",
      "         Current function value: -3.146176\n",
      "         Iterations: 2\n",
      "         Function evaluations: 60\n",
      "\n",
      "     1---0\n",
      "     | x |\n",
      "     0---1\n",
      "\n"
     ]
    }
   ],
   "source": [
    "from blueqat import pauli, vqe\n",
    "\n",
    "def maxcut_qaoa(n_step, edges, minimizer=None, sampler=None, verbose=True):\n",
    "    \"\"\"Setup QAOA.\n",
    "    :param n_step: The number of step of QAOA\n",
    "    :param n_sample: The number of sampling time of each measurement in VQE.\n",
    "                     If None, use calculated ideal value.\n",
    "    :param edges: The edges list of the graph.\n",
    "    :returns Vqe object\n",
    "    \"\"\"\n",
    "    sampler = sampler or vqe.non_sampling_sampler\n",
    "    minimizer = minimizer or vqe.get_scipy_minimizer(\n",
    "        method=\"Powell\",\n",
    "        options={\"ftol\": 5.0e-2, \"xtol\": 5.0e-2, \"maxiter\": 1000, \"disp\": True}\n",
    "    )\n",
    "    hamiltonian = pauli.I() * 0\n",
    "\n",
    "    for i, j in edges:\n",
    "        hamiltonian += pauli.Z(i) * pauli.Z(j)\n",
    "\n",
    "    return vqe.Vqe(vqe.QaoaAnsatz(hamiltonian, n_step), minimizer, sampler)\n",
    "\n",
    "if __name__ == \"__main__\":\n",
    "    runner = maxcut_qaoa(2, [(0,1),(0,3),(1,2),(2,3)])\n",
    "    result = runner.run()\n",
    "    print(\"\"\"\n",
    "     {0}---{3}\n",
    "     | x |\n",
    "     {1}---{2}\n",
    "\"\"\".format(*result.most_common()[0][0]))"
   ]
  },
  {
   "cell_type": "code",
   "execution_count": null,
   "metadata": {
    "scrolled": true
   },
   "outputs": [],
   "source": []
  },
  {
   "cell_type": "code",
   "execution_count": null,
   "metadata": {},
   "outputs": [],
   "source": [
    "\n"
   ]
  },
  {
   "cell_type": "code",
   "execution_count": 26,
   "metadata": {},
   "outputs": [
    {
     "name": "stdout",
     "output_type": "stream",
     "text": [
      "Collecting cvxopt\n",
      "  Downloading cvxopt-1.2.5-cp37-cp37m-macosx_10_9_x86_64.whl (3.1 MB)\n",
      "\u001b[K     |████████████████████████████████| 3.1 MB 1.3 MB/s eta 0:00:01\n",
      "\u001b[?25hCollecting picos\n",
      "  Downloading PICOS-2.0.8.tar.gz (237 kB)\n",
      "\u001b[K     |████████████████████████████████| 237 kB 2.1 MB/s eta 0:00:01\n",
      "\u001b[?25hRequirement already satisfied: networkx in ./opt/anaconda3/lib/python3.7/site-packages (2.3)\n",
      "Requirement already satisfied: numpy>=1.6.2 in ./opt/anaconda3/lib/python3.7/site-packages (from picos) (1.17.2)\n",
      "Requirement already satisfied: decorator>=4.3.0 in ./opt/anaconda3/lib/python3.7/site-packages (from networkx) (4.4.0)\n",
      "Building wheels for collected packages: picos\n",
      "  Building wheel for picos (setup.py) ... \u001b[?25ldone\n",
      "\u001b[?25h  Created wheel for picos: filename=PICOS-2.0.8-py3-none-any.whl size=321333 sha256=6d6ada99ee94a70d2e8cc0c7e7a4635e4c073b59845069a3eb7be06919467484\n",
      "  Stored in directory: /Users/humu/Library/Caches/pip/wheels/47/21/14/8aa68a4d6b6f39266b66cb8c92c2ddbcbb8e657a447a527246\n",
      "Successfully built picos\n",
      "Installing collected packages: cvxopt, picos\n",
      "Successfully installed cvxopt-1.2.5 picos-2.0.8\n"
     ]
    }
   ],
   "source": [
    "!pip install cvxopt picos networkx"
   ]
  },
  {
   "cell_type": "code",
   "execution_count": 50,
   "metadata": {},
   "outputs": [
    {
     "name": "stderr",
     "output_type": "stream",
     "text": [
      "/Users/humu/opt/anaconda3/lib/python3.7/site-packages/ipykernel_launcher.py:22: DeprecationWarning: Problem.add_variable is deprecated: Variables can now be created independent of problems, and do not need to be added to any problem explicitly.\n",
      "/Users/humu/opt/anaconda3/lib/python3.7/site-packages/ipykernel_launcher.py:27: DeprecationWarning: new_param is deprecated: Use Constant instead.\n",
      "/Users/humu/opt/anaconda3/lib/python3.7/site-packages/ipykernel_launcher.py:29: DeprecationWarning: diag_vect is deprecated: Use maindiag instead.\n"
     ]
    },
    {
     "data": {
      "text/plain": [
       "<primal feasible solution pair (claimed optimal) from cvxopt>"
      ]
     },
     "execution_count": 50,
     "metadata": {},
     "output_type": "execute_result"
    }
   ],
   "source": [
    "import cvxopt as cvx\n",
    "import picos as pic\n",
    "from picos.tools import diag_vect\n",
    "import cvxopt .lapack\n",
    "import numpy as np\n",
    "import networkx as nx\n",
    "\n",
    "G=nx.Graph()\n",
    "\n",
    "G.add_edge('1','2',weight=1)\n",
    "G.add_edge('1','3',weight=2)\n",
    "G.add_edge('1','4',weight=1)\n",
    "G.add_edge('1','5',weight=3)\n",
    "G.add_edge('2','3',weight=2)\n",
    "G.add_edge('2','5',weight=3)\n",
    "G.add_edge('3','4',weight=2)\n",
    "G.add_edge('3','5',weight=4)\n",
    "G.add_edge('4','5',weight=1)\n",
    "\n",
    "N=G.number_of_nodes()\n",
    "maxcut = pic.Problem()\n",
    "X = maxcut.add_variable('x',(N,N),'symmetric')\n",
    "nlist = ['1','2','3','4','5']\n",
    "\n",
    "gL = nx.laplacian_matrix(G,weight='weight',nodelist=nlist)\n",
    "gL = gL.toarray().astype(np.double)\n",
    "L = pic.new_param('L',1/4.*gL)\n",
    "\n",
    "maxcut.add_constraint(diag_vect(X)==1)\n",
    "maxcut.add_constraint(X>>0)\n",
    "maxcut.set_objective('max',L|X)\n",
    "maxcut.solve()\n",
    "\n"
   ]
  },
  {
   "cell_type": "code",
   "execution_count": 64,
   "metadata": {},
   "outputs": [
    {
     "name": "stderr",
     "output_type": "stream",
     "text": [
      "/Users/humu/opt/anaconda3/lib/python3.7/site-packages/ipykernel_launcher.py:24: DeprecationWarning: new_param is deprecated: Use Constant instead.\n",
      "/Users/humu/opt/anaconda3/lib/python3.7/site-packages/networkx/drawing/nx_pylab.py:579: MatplotlibDeprecationWarning: \n",
      "The iterable function was deprecated in Matplotlib 3.1 and will be removed in 3.3. Use np.iterable instead.\n",
      "  if not cb.iterable(width):\n",
      "/Users/humu/opt/anaconda3/lib/python3.7/site-packages/networkx/drawing/nx_pylab.py:676: MatplotlibDeprecationWarning: \n",
      "The iterable function was deprecated in Matplotlib 3.1 and will be removed in 3.3. Use np.iterable instead.\n",
      "  if cb.iterable(node_size):  # many node sizes\n"
     ]
    },
    {
     "data": {
      "image/png": "[encoded data removed]",
      "text/plain": [
       "<Figure size 792x576 with 1 Axes>"
      ]
     },
     "metadata": {},
     "output_type": "display_data"
    }
   ],
   "source": [
    "import picos as pic\n",
    "import networkx as nx\n",
    "import pylab\n",
    "import random\n",
    "\n",
    "# Use a fixed RNG seed so the result is reproducable.\n",
    "random.seed(1)\n",
    "\n",
    "# Number of nodes.\n",
    "N=20\n",
    "\n",
    "# Generate a graph using LCF notation.\n",
    "G=nx.LCF_graph(N,[1,3,14],5)\n",
    "G=nx.DiGraph(G) #edges are bidirected\n",
    "\n",
    "# Generate edge capacities.\n",
    "c={}\n",
    "for e in sorted(G.edges(data=True)):\n",
    "  capacity = random.randint(1, 20)\n",
    "  e[2]['capacity'] = capacity\n",
    "  c[(e[0], e[1])]  = capacity\n",
    "\n",
    "# Convert the capacities to a PICOS expression.\n",
    "cc=pic.new_param('c',c)\n",
    "\n",
    "# Manually set a layout for which the graph is planar.\n",
    "pos={\n",
    "  0:  (0.07, 0.70), 1:  (0.18, 0.78), 2:  (0.26, 0.45), 3:  (0.27, 0.66),\n",
    "  4:  (0.42, 0.79), 5:  (0.56, 0.95), 6:  (0.60, 0.80), 7:  (0.64, 0.65),\n",
    "  8:  (0.55, 0.37), 9:  (0.65, 0.30), 10: (0.77, 0.46), 11: (0.83, 0.66),\n",
    "  12: (0.90, 0.41), 13: (0.70, 0.10), 14: (0.56, 0.16), 15: (0.40, 0.17),\n",
    "  16: (0.28, 0.05), 17: (0.03, 0.38), 18: (0.01, 0.66), 19: (0.00, 0.95)\n",
    "}\n",
    "\n",
    "# Set source and sink nodes for flow computation.\n",
    "s=16\n",
    "t=10\n",
    "\n",
    "# Set node colors.\n",
    "node_colors=['lightgrey']*N\n",
    "node_colors[s]='lightgreen' # Source is green.\n",
    "node_colors[t]='lightblue'  # Sink is blue.\n",
    "\n",
    "# Define a plotting helper that closes the old and opens a new figure.\n",
    "def new_figure():\n",
    "  try:\n",
    "    global fig\n",
    "    pylab.close(fig)\n",
    "  except NameError:\n",
    "    pass\n",
    "  fig=pylab.figure(figsize=(11,8))\n",
    "  fig.gca().axes.get_xaxis().set_ticks([])\n",
    "  fig.gca().axes.get_yaxis().set_ticks([])\n",
    "\n",
    "# Plot the graph with the edge capacities.\n",
    "new_figure()\n",
    "nx.draw_networkx(G, pos, node_color=node_colors)\n",
    "labels={\n",
    "  e: '{} | {}'.format(c[(e[0], e[1])], c[(e[1], e[0])])\n",
    "  for e in G.edges if e[0] < e[1]}\n",
    "nx.draw_networkx_edge_labels(G, pos, edge_labels=labels)\n",
    "pylab.show()"
   ]
  },
  {
   "cell_type": "code",
   "execution_count": 91,
   "metadata": {},
   "outputs": [
    {
     "name": "stderr",
     "output_type": "stream",
     "text": [
      "/Users/humu/opt/anaconda3/lib/python3.7/site-packages/ipykernel_launcher.py:23: DeprecationWarning: new_param is deprecated: Use Constant instead.\n",
      "/Users/humu/opt/anaconda3/lib/python3.7/site-packages/ipykernel_launcher.py:65: DeprecationWarning: Problem.add_variable is deprecated: Variables can now be created independent of problems, and do not need to be added to any problem explicitly.\n",
      "/Users/humu/opt/anaconda3/lib/python3.7/site-packages/ipykernel_launcher.py:69: DeprecationWarning: new_param is deprecated: Use Constant instead.\n",
      "/Users/humu/opt/anaconda3/lib/python3.7/site-packages/ipykernel_launcher.py:72: DeprecationWarning: diag_vect is deprecated: Use maindiag instead.\n",
      "/Users/humu/opt/anaconda3/lib/python3.7/site-packages/ipykernel_launcher.py:100: DeprecationWarning: Problem.obj_value is deprecated: Use value instead.\n",
      "/Users/humu/opt/anaconda3/lib/python3.7/site-packages/networkx/drawing/nx_pylab.py:579: MatplotlibDeprecationWarning: \n",
      "The iterable function was deprecated in Matplotlib 3.1 and will be removed in 3.3. Use np.iterable instead.\n",
      "  if not cb.iterable(width):\n",
      "/Users/humu/opt/anaconda3/lib/python3.7/site-packages/ipykernel_launcher.py:135: DeprecationWarning: Problem.obj_value is deprecated: Use value instead.\n"
     ]
    },
    {
     "data": {
      "image/png": "[encoded data removed]",
      "text/plain": [
       "<Figure size 792x576 with 1 Axes>"
      ]
     },
     "metadata": {},
     "output_type": "display_data"
    }
   ],
   "source": [
    "import cvxopt as cvx\n",
    "import cvxopt.lapack\n",
    "import numpy as np\n",
    "import picos as pic\n",
    "import networkx as nx\n",
    "import pylab\n",
    "import random\n",
    "\n",
    "# Use a fixed RNG seed so the result is reproducable.\n",
    "random.seed(1)\n",
    "\n",
    "# Number of nodes.\n",
    "N=20\n",
    "\n",
    "# Generate a graph using LCF notation.\n",
    "G=nx.LCF_graph(N,[1,3,14],5)\n",
    "G=nx.DiGraph(G) #edges are bidirected\n",
    "\n",
    "# Generate edge capacities.\n",
    "c={}\n",
    "for e in sorted(G.edges(data=True)):\n",
    "  capacity = random.randint(1, 20)\n",
    "  e[2]['capacity'] = capacity\n",
    "  c[(e[0], e[1])]  = capacity\n",
    "\n",
    "# Convert the capacities to a PICOS expression.\n",
    "cc=pic.new_param('c',c)\n",
    "\n",
    "# Manually set a layout for which the graph is planar.\n",
    "pos={\n",
    "  0:  (0.07, 0.70), 1:  (0.18, 0.78), 2:  (0.26, 0.45), 3:  (0.27, 0.66),\n",
    "  4:  (0.42, 0.79), 5:  (0.56, 0.95), 6:  (0.60, 0.80), 7:  (0.64, 0.65),\n",
    "  8:  (0.55, 0.37), 9:  (0.65, 0.30), 10: (0.77, 0.46), 11: (0.83, 0.66),\n",
    "  12: (0.90, 0.41), 13: (0.70, 0.10), 14: (0.56, 0.16), 15: (0.40, 0.17),\n",
    "  16: (0.28, 0.05), 17: (0.03, 0.38), 18: (0.01, 0.66), 19: (0.00, 0.95)\n",
    "}\n",
    "\n",
    "# Set source and sink nodes for flow computation.\n",
    "s=16\n",
    "t=10\n",
    "\n",
    "# Set node colors.\n",
    "node_colors=['lightgrey']*N\n",
    "node_colors[s]='lightgreen' # Source is green.\n",
    "node_colors[t]='lightblue'  # Sink is blue.\n",
    "\n",
    "# Define a plotting helper that closes the old and opens a new figure.\n",
    "def new_figure():\n",
    "  try:\n",
    "    global fig\n",
    "    pylab.close(fig)\n",
    "  except NameError:\n",
    "    pass\n",
    "  fig=pylab.figure(figsize=(11,8))\n",
    "  fig.gca().axes.get_xaxis().set_ticks([])\n",
    "  fig.gca().axes.get_yaxis().set_ticks([])\n",
    "\n",
    "\n",
    "# Make G undirected.\n",
    "G=nx.Graph(G)\n",
    "\n",
    "# Allocate weights to the edges.\n",
    "for (i,j) in G.edges():\n",
    "  G[i][j]['weight']=c[i,j]+c[j,i]\n",
    "\n",
    "maxcut = pic.Problem()\n",
    "\n",
    "# Add the symmetric matrix variable.\n",
    "X=maxcut.add_variable('X', (N,N), 'symmetric')\n",
    "\n",
    "# Retrieve the Laplacian of the graph.\n",
    "LL = 1/4.*nx.laplacian_matrix(G).todense()\n",
    "L=pic.new_param('L', LL)\n",
    "\n",
    "# Constrain X to have ones on the diagonal.\n",
    "maxcut.add_constraint(pic.diag_vect(X) == 1)\n",
    "\n",
    "# Constrain X to be positive semidefinite.\n",
    "maxcut.add_constraint(X >> 0)\n",
    "\n",
    "# Set the objective.\n",
    "maxcut.set_objective('max', L|X)\n",
    "\n",
    "#print(maxcut)\n",
    "\n",
    "# Solve the problem.\n",
    "maxcut.solve(solver='cvxopt')\n",
    "\n",
    "#print('bound from the SDP relaxation: {0}'.format(maxcut.obj_value()))\n",
    "\n",
    "# Use a fixed RNG seed so the result is reproducable.\n",
    "cvx.setseed(1)\n",
    "\n",
    "# Perform a Cholesky factorization.\n",
    "V=X.value\n",
    "cvxopt.lapack.potrf(V)\n",
    "for i in range(N):\n",
    "  for j in range(i+1,N):\n",
    "    V[i,j]=0\n",
    "\n",
    "# Do up to 100 projections. Stop if we are within a factor 0.878 of the SDP\n",
    "# optimal value.\n",
    "count=0\n",
    "obj_sdp=maxcut.obj_value()\n",
    "obj=0\n",
    "while (count < 100 or obj < 0.878*obj_sdp):\n",
    "  r=cvx.normal(20,1)\n",
    "  x=cvx.matrix(np.sign(V*r))\n",
    "  o=(x.T*L*x).value\n",
    "  if o > obj:\n",
    "    x_cut=x\n",
    "    obj=o\n",
    "  count+=1\n",
    "x=x_cut\n",
    "\n",
    "# Extract the cut and the seperated node sets.\n",
    "S1=[n for n in range(N) if x[n]<0]\n",
    "S2=[n for n in range(N) if x[n]>0]\n",
    "cut = [(i,j) for (i,j) in G.edges() if x[i]*x[j]<0]\n",
    "leave = [e for e in G.edges if e not in cut]\n",
    "\n",
    "# Close the old figure and open a new one.\n",
    "new_figure()\n",
    "\n",
    "# Assign colors based on set membership.\n",
    "node_colors=[('lightgreen' if n in S1 else 'lightblue') for n in range(N)]\n",
    "\n",
    "# Draw the nodes and the edges that are not in the cut.\n",
    "nx.draw_networkx(G, pos, node_color=node_colors, edgelist=leave)\n",
    "labels={e: '{}'.format(G[e[0]][e[1]]['weight']) for e in leave}\n",
    "nx.draw_networkx_edge_labels(G, pos, edge_labels=labels)\n",
    "\n",
    "# Draw the edges that are in the cut.\n",
    "nx.draw_networkx_edges(G, pos, edgelist=cut, edge_color='r')\n",
    "labels={e: '{}'.format(G[e[0]][e[1]]['weight']) for e in cut}\n",
    "nx.draw_networkx_edge_labels(G, pos, edge_labels=labels, font_color='r')\n",
    "\n",
    "# Show the relaxation optimum value and the cut capacity.\n",
    "rval = maxcut.obj_value()\n",
    "sval = sum(G[e[0]][e[1]]['weight'] for e in cut)\n",
    "fig.suptitle(\n",
    "  'SDP relaxation value: {0:.1f}\\nCut value: {1:.1f} = {2:.3f}×{0:.1f}'\n",
    "  .format(rval, sval, sval/rval), fontsize=16, y=0.97)\n",
    "\n",
    "# Show the figure.\n",
    "pylab.show()\n"
   ]
  },
  {
   "cell_type": "code",
   "execution_count": 68,
   "metadata": {
    "scrolled": true
   },
   "outputs": [
    {
     "data": {
      "text/plain": [
       "{'graph_attr_dict_factory': dict,\n",
       " 'node_dict_factory': dict,\n",
       " 'node_attr_dict_factory': dict,\n",
       " 'adjlist_outer_dict_factory': dict,\n",
       " 'adjlist_inner_dict_factory': dict,\n",
       " 'edge_attr_dict_factory': dict,\n",
       " 'graph': {'name': 'LCF_graph'},\n",
       " '_node': {0: {},\n",
       "  1: {},\n",
       "  2: {},\n",
       "  3: {},\n",
       "  4: {},\n",
       "  5: {},\n",
       "  6: {},\n",
       "  7: {},\n",
       "  8: {},\n",
       "  9: {},\n",
       "  10: {},\n",
       "  11: {},\n",
       "  12: {},\n",
       "  13: {},\n",
       "  14: {},\n",
       "  15: {},\n",
       "  16: {},\n",
       "  17: {},\n",
       "  18: {},\n",
       "  19: {}},\n",
       " '_adj': {0: {1: {'capacity': 3, 'weight': 8},\n",
       "   19: {'capacity': 19, 'weight': 38}},\n",
       "  1: {0: {'capacity': 3, 'weight': 8},\n",
       "   2: {'capacity': 16, 'weight': 25},\n",
       "   4: {'capacity': 16, 'weight': 20}},\n",
       "  2: {1: {'capacity': 16, 'weight': 25},\n",
       "   3: {'capacity': 7, 'weight': 22},\n",
       "   16: {'capacity': 4, 'weight': 17},\n",
       "   8: {'capacity': 1, 'weight': 17}},\n",
       "  3: {2: {'capacity': 7, 'weight': 22}, 4: {'capacity': 1, 'weight': 5}},\n",
       "  4: {1: {'capacity': 16, 'weight': 20},\n",
       "   3: {'capacity': 1, 'weight': 5},\n",
       "   5: {'capacity': 20, 'weight': 33},\n",
       "   7: {'capacity': 4, 'weight': 18}},\n",
       "  5: {4: {'capacity': 20, 'weight': 33},\n",
       "   6: {'capacity': 8, 'weight': 9},\n",
       "   19: {'capacity': 16, 'weight': 25},\n",
       "   11: {'capacity': 16, 'weight': 31}},\n",
       "  6: {5: {'capacity': 8, 'weight': 9}, 7: {'capacity': 11, 'weight': 30}},\n",
       "  7: {4: {'capacity': 4, 'weight': 18},\n",
       "   6: {'capacity': 11, 'weight': 30},\n",
       "   8: {'capacity': 18, 'weight': 19},\n",
       "   10: {'capacity': 1, 'weight': 2}},\n",
       "  8: {2: {'capacity': 1, 'weight': 17},\n",
       "   7: {'capacity': 18, 'weight': 19},\n",
       "   9: {'capacity': 7, 'weight': 8},\n",
       "   14: {'capacity': 14, 'weight': 27}},\n",
       "  9: {8: {'capacity': 7, 'weight': 8}, 10: {'capacity': 17, 'weight': 31}},\n",
       "  10: {7: {'capacity': 1, 'weight': 2},\n",
       "   9: {'capacity': 17, 'weight': 31},\n",
       "   11: {'capacity': 18, 'weight': 26},\n",
       "   13: {'capacity': 8, 'weight': 23}},\n",
       "  11: {5: {'capacity': 16, 'weight': 31},\n",
       "   10: {'capacity': 18, 'weight': 26},\n",
       "   12: {'capacity': 12, 'weight': 20}},\n",
       "  12: {11: {'capacity': 12, 'weight': 20}, 13: {'capacity': 15, 'weight': 23}},\n",
       "  13: {10: {'capacity': 8, 'weight': 23},\n",
       "   12: {'capacity': 15, 'weight': 23},\n",
       "   14: {'capacity': 18, 'weight': 28},\n",
       "   16: {'capacity': 11, 'weight': 12}},\n",
       "  14: {8: {'capacity': 14, 'weight': 27},\n",
       "   13: {'capacity': 18, 'weight': 28},\n",
       "   15: {'capacity': 6, 'weight': 10}},\n",
       "  15: {14: {'capacity': 6, 'weight': 10}, 16: {'capacity': 17, 'weight': 27}},\n",
       "  16: {2: {'capacity': 4, 'weight': 17},\n",
       "   13: {'capacity': 11, 'weight': 12},\n",
       "   15: {'capacity': 17, 'weight': 27},\n",
       "   17: {'capacity': 17, 'weight': 31}},\n",
       "  17: {16: {'capacity': 17, 'weight': 31}, 18: {'capacity': 10, 'weight': 17}},\n",
       "  18: {17: {'capacity': 10, 'weight': 17}, 19: {'capacity': 17, 'weight': 27}},\n",
       "  19: {0: {'capacity': 19, 'weight': 38},\n",
       "   5: {'capacity': 16, 'weight': 25},\n",
       "   18: {'capacity': 17, 'weight': 27}}},\n",
       " 'nodes': NodeView((0, 1, 2, 3, 4, 5, 6, 7, 8, 9, 10, 11, 12, 13, 14, 15, 16, 17, 18, 19))}"
      ]
     },
     "execution_count": 68,
     "metadata": {},
     "output_type": "execute_result"
    }
   ],
   "source": [
    "vars(G)"
   ]
  },
  {
   "cell_type": "code",
   "execution_count": 69,
   "metadata": {},
   "outputs": [
    {
     "name": "stdout",
     "output_type": "stream",
     "text": [
      "/bin/sh: jt: command not found\r\n"
     ]
    }
   ],
   "source": [
    "!jt -r"
   ]
  },
  {
   "cell_type": "code",
   "execution_count": 74,
   "metadata": {},
   "outputs": [
    {
     "name": "stdout",
     "output_type": "stream",
     "text": [
      "Counter({'1110': 78, '0110': 73, '1010': 72, '0001': 68, '0111': 67, '1101': 63, '0010': 62, '0101': 62, '1001': 61, '1000': 61, '0011': 57, '1100': 57, '1111': 57, '1011': 57, '0000': 56, '0100': 49})\n",
      "Counter({'0100': 77, '0000': 74, '1110': 69, '1101': 68, '0011': 66, '0010': 65, '1010': 65, '1100': 64, '0101': 63, '1000': 61, '1111': 59, '1011': 58, '0111': 55, '0110': 55, '1001': 52, '0001': 49})\n",
      "Counter({'0000': 79, '0110': 69, '0101': 69, '1011': 67, '1111': 66, '1101': 66, '1001': 65, '0001': 64, '1000': 63, '1110': 61, '1100': 60, '1010': 60, '0010': 57, '0011': 52, '0100': 51, '0111': 51})\n",
      "Counter({'0011': 72, '1010': 71, '1000': 71, '1110': 71, '1011': 67, '0010': 67, '1111': 66, '1001': 66, '0001': 61, '1101': 60, '0110': 59, '0111': 58, '0101': 56, '0000': 55, '0100': 53, '1100': 47})\n",
      "Counter({'1000': 87, '0101': 75, '1111': 68, '1010': 65, '0011': 64, '0100': 63, '1001': 63, '1101': 62, '0001': 60, '1100': 59, '1011': 58, '0000': 58, '0111': 56, '0010': 56, '1110': 55, '0110': 51})\n",
      "Counter({'0110': 73, '0101': 72, '1100': 71, '0011': 69, '1011': 68, '1010': 67, '1110': 67, '0100': 66, '0001': 65, '1101': 61, '1001': 58, '1000': 57, '0010': 56, '1111': 53, '0111': 49, '0000': 48})\n",
      "Counter({'1010': 78, '0001': 71, '1000': 69, '0100': 68, '1011': 67, '0011': 66, '1110': 65, '0101': 65, '1101': 64, '1001': 61, '0010': 60, '0111': 56, '1100': 55, '0110': 55, '1111': 54, '0000': 46})\n",
      "Counter({'0000': 215, '1111': 213, '1000': 51, '0010': 48, '1101': 48, '1011': 48, '1010': 47, '1110': 44, '0111': 42, '0101': 37, '0001': 36, '1001': 36, '1100': 35, '0011': 35, '0110': 34, '0100': 31})\n",
      "Counter({'0000': 92, '1011': 79, '1111': 75, '0100': 71, '0110': 64, '0010': 62, '0011': 61, '0001': 60, '0111': 60, '1110': 58, '1100': 57, '1001': 56, '1010': 53, '1101': 52, '1000': 52, '0101': 48})\n",
      "Counter({'1110': 76, '0011': 73, '1011': 67, '1000': 66, '0101': 64, '1100': 64, '0111': 64, '0001': 63, '1101': 62, '0110': 61, '1010': 60, '0100': 57, '0010': 57, '1001': 56, '1111': 56, '0000': 54})\n",
      "Counter({'0000': 216, '1111': 210, '0111': 53, '1000': 52, '0101': 50, '0100': 50, '0010': 48, '1011': 45, '1101': 43, '1001': 40, '1010': 39, '0001': 37, '1110': 36, '0011': 31, '1100': 27, '0110': 23})\n",
      "Counter({'0101': 257, '1010': 222, '0011': 87, '1100': 71, '0110': 61, '1001': 52, '1011': 36, '0001': 32, '1110': 31, '0010': 29, '0100': 29, '1000': 28, '1101': 26, '0111': 24, '0000': 9, '1111': 6})\n",
      "Counter({'1010': 238, '0101': 236, '1100': 76, '0110': 69, '0011': 69, '1001': 69, '0001': 40, '1011': 38, '0111': 33, '1110': 32, '1101': 29, '1000': 21, '0100': 18, '0010': 14, '1111': 12, '0000': 6})\n",
      "Counter({'0101': 246, '1010': 231, '1001': 70, '0110': 68, '1100': 64, '0011': 56, '1011': 37, '0010': 35, '1110': 33, '1000': 32, '1101': 30, '0100': 29, '0001': 29, '0111': 29, '1111': 8, '0000': 3})\n",
      "Counter({'0101': 259, '1010': 257, '1100': 66, '0110': 66, '0011': 64, '1001': 59, '0100': 37, '1000': 30, '1101': 29, '1011': 26, '1110': 26, '0001': 24, '0111': 23, '0010': 16, '1111': 10, '0000': 8})\n",
      "Counter({'1010': 254, '0101': 243, '1001': 73, '0110': 64, '0011': 61, '1100': 60, '1110': 36, '0010': 34, '0111': 33, '0100': 31, '1000': 29, '1101': 26, '0001': 24, '1011': 21, '1111': 7, '0000': 4})\n",
      "Counter({'1010': 245, '0101': 227, '0011': 79, '1100': 79, '0110': 72, '1001': 64, '0010': 31, '0100': 30, '1101': 30, '1011': 27, '0111': 25, '1110': 24, '1000': 22, '0001': 21, '0000': 14, '1111': 10})\n",
      "Counter({'0101': 240, '1010': 230, '1001': 93, '1100': 80, '0011': 79, '0110': 67, '0001': 30, '0010': 29, '1101': 26, '1011': 26, '1110': 22, '1000': 20, '0111': 20, '0100': 19, '1111': 10, '0000': 9})\n",
      "Counter({'1010': 272, '0101': 246, '0110': 78, '0011': 68, '1100': 59, '1001': 57, '1110': 32, '1011': 27, '0111': 27, '0100': 26, '0010': 26, '1000': 26, '1101': 24, '0001': 17, '0000': 8, '1111': 7})\n",
      "Counter({'1010': 204, '0101': 189, '0011': 119, '1001': 108, '0110': 105, '1100': 92, '0000': 61, '1111': 59, '0010': 9, '0100': 9, '1110': 9, '1000': 9, '0111': 8, '1101': 7, '1011': 6, '0001': 6})\n",
      "Counter({'0101': 240, '1010': 237, '1100': 76, '0110': 73, '0011': 68, '1001': 60, '1011': 35, '0100': 33, '0111': 33, '1110': 31, '1000': 30, '1101': 26, '0010': 25, '0001': 21, '0000': 8, '1111': 4})\n",
      "Counter({'1010': 250, '0101': 223, '0011': 74, '0110': 70, '1100': 68, '1001': 66, '0010': 35, '0111': 33, '1110': 30, '0001': 30, '1101': 29, '1011': 26, '0100': 25, '1000': 23, '1111': 11, '0000': 7})\n",
      "Counter({'0101': 245, '1010': 223, '1001': 94, '0110': 91, '0011': 79, '1100': 73, '1111': 56, '0000': 49, '1101': 15, '0100': 14, '0010': 13, '1011': 12, '0111': 11, '1000': 10, '0001': 9, '1110': 6})\n",
      "Counter({'0101': 405, '1010': 364, '0110': 45, '1001': 43, '0011': 39, '1100': 38, '0000': 10, '1011': 9, '1110': 8, '1101': 8, '0010': 7, '0001': 7, '0100': 7, '0111': 5, '1111': 3, '1000': 2})\n",
      "Counter({'0011': 76, '0110': 75, '1111': 70, '1110': 69, '1001': 68, '0111': 67, '1011': 66, '1100': 66, '1000': 62, '0001': 62, '0010': 60, '0000': 60, '0100': 57, '1101': 56, '1010': 45, '0101': 41})\n",
      "Counter({'1010': 408, '0101': 375, '0011': 45, '1001': 42, '0110': 37, '1100': 34, '0001': 10, '1011': 9, '0000': 9, '1101': 7, '1000': 5, '1111': 4, '0111': 4, '1110': 4, '0100': 4, '0010': 3})\n",
      "Counter({'0101': 166, '0110': 139, '0011': 117, '1010': 115, '1100': 107, '1001': 104, '1111': 72, '0000': 58, '1011': 21, '1110': 18, '1101': 18, '1000': 17, '0010': 13, '0100': 12, '0111': 12, '0001': 11})\n",
      "Counter({'1010': 99, '0101': 93, '0011': 70, '1001': 66, '1101': 64, '1100': 61, '1111': 61, '0110': 58, '1011': 58, '0111': 57, '0001': 55, '0000': 55, '1000': 54, '1110': 52, '0010': 49, '0100': 48})\n",
      "Counter({'0101': 404, '1010': 401, '0110': 46, '1001': 36, '0011': 34, '1100': 30, '1000': 9, '0111': 8, '1110': 6, '0000': 6, '0010': 4, '1111': 4, '1101': 4, '0001': 4, '1011': 2, '0100': 2})\n",
      "Counter({'0101': 350, '1010': 342, '0110': 50, '0011': 45, '1100': 43, '1001': 42, '1000': 15, '1110': 15, '0111': 14, '1111': 14, '0010': 14, '1101': 13, '1011': 12, '0001': 12, '0000': 12, '0100': 7})\n",
      "Counter({'1010': 319, '0101': 304, '0110': 74, '1001': 73, '1100': 72, '0011': 67, '0000': 27, '1111': 22, '0100': 8, '0111': 8, '1011': 6, '0001': 6, '1101': 4, '1000': 4, '1110': 4, '0010': 2})\n",
      "Counter({'0101': 401, '1010': 392, '1001': 47, '0011': 42, '1100': 37, '0110': 34, '0000': 10, '1110': 7, '1011': 6, '1111': 6, '0111': 4, '1000': 4, '1101': 3, '0001': 3, '0100': 2, '0010': 2})\n",
      "Counter({'0101': 408, '1010': 390, '0110': 41, '1001': 40, '0011': 38, '1100': 37, '0000': 7, '1110': 6, '1111': 6, '1000': 5, '0100': 4, '0001': 4, '1011': 4, '0010': 4, '1101': 3, '0111': 3})\n",
      "Counter({'0101': 419, '1010': 403, '0011': 41, '1001': 36, '0110': 35, '1100': 27, '1110': 6, '1111': 5, '1000': 5, '0000': 4, '0111': 4, '0100': 4, '0001': 3, '1101': 3, '1011': 3, '0010': 2})\n",
      "Counter({'0000': 299, '1111': 286, '1001': 96, '1100': 91, '0110': 88, '0011': 79, '1010': 30, '0101': 19, '1101': 4, '0010': 3, '1011': 2, '0001': 2, '1000': 1})\n",
      "Counter({'1010': 359, '0101': 349, '0011': 67, '1100': 57, '1001': 56, '0110': 46, '1111': 17, '0000': 9, '0100': 7, '0111': 7, '0001': 6, '0010': 5, '1110': 5, '1000': 4, '1101': 4, '1011': 2})\n",
      "Counter({'1010': 421, '0101': 399, '0110': 39, '0011': 38, '1100': 36, '1001': 25, '0010': 9, '1101': 6, '0000': 4, '1110': 4, '1011': 4, '0111': 4, '1000': 3, '1111': 3, '0001': 3, '0100': 2})\n",
      "Counter({'1111': 309, '0000': 292, '0110': 93, '1100': 91, '1001': 81, '0011': 72, '1010': 27, '0101': 18, '1000': 5, '0100': 4, '0010': 3, '0111': 2, '1110': 1, '1011': 1, '0001': 1})\n",
      "Counter({'1010': 371, '0101': 348, '1100': 72, '0011': 62, '1001': 58, '0110': 51, '0000': 14, '1111': 7, '0010': 5, '1011': 3, '1000': 3, '1101': 3, '0001': 1, '0100': 1, '0111': 1})\n",
      "Counter({'1010': 494, '0101': 474, '0100': 5, '1101': 5, '1011': 4, '0010': 4, '1001': 3, '0001': 2, '1100': 2, '1000': 2, '0111': 2, '0011': 1, '0110': 1, '1110': 1})\n",
      "Counter({'1010': 494, '0101': 461, '0010': 10, '1101': 5, '1011': 5, '0111': 4, '0100': 4, '1110': 4, '1001': 4, '0001': 3, '1000': 3, '1100': 2, '0110': 1})\n",
      "Counter({'0000': 198, '1111': 165, '0101': 74, '1010': 73, '1101': 67, '0100': 61, '1110': 60, '0010': 53, '1011': 52, '0111': 47, '1000': 42, '0001': 37, '0011': 22, '0110': 18, '1001': 16, '1100': 15})\n"
     ]
    },
    {
     "name": "stdout",
     "output_type": "stream",
     "text": [
      "Counter({'1111': 284, '0000': 280, '1101': 42, '0111': 41, '1000': 39, '1011': 37, '0001': 34, '1100': 33, '0010': 33, '0100': 31, '1110': 28, '0101': 27, '1001': 25, '1010': 24, '0011': 24, '0110': 18})\n",
      "Counter({'1010': 490, '0101': 463, '1110': 10, '0111': 6, '1101': 6, '0010': 5, '1011': 4, '0100': 4, '0110': 4, '0001': 4, '1001': 2, '1000': 1, '0011': 1})\n",
      "Counter({'0101': 320, '1010': 299, '0110': 48, '0011': 44, '1100': 38, '1001': 30, '1110': 26, '0000': 26, '1000': 25, '1011': 22, '0111': 22, '0010': 21, '0001': 21, '1111': 20, '1101': 20, '0100': 18})\n",
      "Counter({'0101': 358, '1010': 349, '1011': 35, '0100': 34, '0001': 34, '0111': 33, '0010': 32, '1110': 27, '1000': 24, '1101': 23, '1111': 15, '0000': 13, '1001': 9, '0110': 6, '0011': 4, '1100': 4})\n",
      "Counter({'0101': 492, '1010': 482, '0110': 6, '0011': 4, '1101': 4, '0010': 2, '1100': 2, '1011': 2, '0111': 2, '1001': 1, '1110': 1, '0001': 1, '0100': 1})\n",
      "Counter({'1010': 486, '0101': 474, '0110': 10, '0011': 8, '1100': 5, '1110': 3, '1000': 3, '1001': 3, '0111': 2, '1011': 2, '0010': 2, '1101': 2})\n",
      "Counter({'0101': 498, '1010': 474, '0011': 6, '1100': 5, '1001': 3, '0110': 3, '0001': 2, '0100': 2, '1101': 2, '0010': 1, '1000': 1, '0111': 1, '1111': 1, '1110': 1})\n",
      "Counter({'1010': 166, '0101': 164, '0110': 109, '1111': 100, '0011': 97, '0000': 95, '1001': 94, '1100': 87, '0111': 15, '0001': 13, '1000': 13, '0010': 12, '1011': 12, '0100': 11, '1110': 6, '1101': 6})\n",
      "Counter({'1010': 490, '0101': 466, '0010': 8, '1100': 6, '1110': 5, '1001': 4, '0110': 4, '0001': 4, '0100': 3, '1011': 3, '1000': 3, '0111': 2, '0011': 1, '1101': 1})\n",
      "Counter({'1010': 492, '0101': 487, '0011': 6, '0110': 4, '1001': 3, '0001': 2, '1000': 2, '1101': 1, '1100': 1, '1011': 1, '0111': 1})\n",
      "Counter({'0101': 152, '1010': 146, '0011': 127, '1100': 119, '1001': 110, '0110': 100, '0000': 97, '1111': 95, '0111': 11, '1011': 9, '1101': 8, '0010': 8, '1000': 7, '1110': 6, '0001': 3, '0100': 2})\n",
      "Counter({'0101': 368, '1010': 300, '0001': 30, '0011': 28, '1000': 28, '1101': 27, '1110': 27, '1100': 25, '0110': 24, '0100': 24, '0010': 23, '1011': 23, '0111': 23, '1111': 21, '1001': 19, '0000': 10})\n",
      "Counter({'0101': 502, '1010': 465, '0011': 6, '1001': 5, '1101': 5, '1000': 3, '0110': 3, '0001': 2, '0010': 2, '0100': 2, '1110': 2, '0111': 2, '1100': 1})\n",
      "Counter({'1010': 364, '0101': 354, '1101': 32, '0100': 31, '1110': 23, '1100': 22, '1000': 22, '0010': 21, '0111': 20, '0110': 19, '1001': 19, '1011': 19, '0001': 16, '0011': 15, '0000': 15, '1111': 8})\n",
      "Counter({'0101': 468, '1010': 455, '1110': 10, '0001': 9, '1001': 9, '0110': 8, '0111': 7, '1000': 7, '0100': 7, '0011': 5, '1011': 4, '0010': 4, '1100': 3, '1101': 2, '1111': 2})\n",
      "Counter({'1010': 491, '0101': 462, '1100': 8, '1001': 7, '0100': 7, '1000': 3, '0111': 3, '0010': 3, '0110': 3, '1110': 3, '1101': 3, '1011': 3, '0001': 2, '0011': 2})\n",
      "Counter({'0101': 495, '1010': 485, '1001': 3, '0110': 3, '1100': 3, '0011': 2, '0001': 2, '1000': 2, '0111': 1, '1110': 1, '1011': 1, '0100': 1, '0010': 1})\n",
      "Counter({'0101': 485, '1010': 483, '0110': 5, '1000': 4, '0011': 4, '1100': 4, '0001': 4, '1001': 3, '1011': 3, '0111': 2, '1110': 1, '0000': 1, '0100': 1})\n",
      "Counter({'0101': 456, '1010': 456, '1001': 16, '0011': 15, '0110': 14, '1100': 10, '0001': 7, '1011': 5, '0010': 5, '1101': 5, '0111': 4, '1110': 3, '0100': 2, '1000': 1, '1111': 1})\n",
      "Counter({'0101': 488, '1010': 479, '1100': 4, '1101': 4, '0110': 4, '1001': 4, '0001': 4, '1000': 3, '1110': 3, '0100': 3, '1011': 1, '0011': 1, '0111': 1, '0010': 1})\n",
      "Counter({'1010': 454, '0101': 443, '0011': 21, '1001': 14, '0110': 13, '1100': 10, '1110': 8, '1101': 8, '0100': 7, '1011': 6, '0001': 6, '1000': 5, '0111': 3, '0010': 2})\n",
      "Counter({'1010': 333, '0101': 329, '1100': 78, '1001': 67, '0011': 65, '0110': 57, '1111': 11, '0000': 10, '0001': 10, '1101': 7, '1000': 7, '0010': 6, '0111': 5, '1110': 5, '0100': 5, '1011': 5})\n",
      "Counter({'1010': 499, '0101': 474, '1100': 5, '0111': 4, '0100': 4, '1001': 3, '0010': 3, '1011': 2, '1101': 2, '1000': 1, '1111': 1, '0011': 1, '1110': 1})\n",
      "Counter({'0101': 458, '1010': 424, '1001': 20, '0011': 19, '1100': 19, '0110': 18, '1110': 8, '0100': 8, '0010': 5, '1011': 5, '1101': 5, '1111': 4, '0001': 3, '0111': 2, '1000': 1, '0000': 1})\n",
      "Counter({'1010': 491, '0101': 487, '0010': 5, '1011': 3, '1110': 3, '1101': 2, '1001': 2, '1000': 2, '0001': 2, '0111': 1, '1100': 1, '0100': 1})\n",
      "Counter({'0101': 503, '1010': 485, '1011': 3, '1000': 2, '1101': 2, '1001': 1, '0010': 1, '0001': 1, '0111': 1, '1100': 1})\n",
      "Counter({'0101': 187, '1010': 180, '1001': 127, '1100': 121, '0110': 118, '0011': 117, '0000': 71, '1111': 67, '1110': 3, '0100': 2, '1000': 2, '0001': 2, '0111': 1, '1101': 1, '0010': 1})\n",
      "Counter({'0000': 154, '1111': 128, '0101': 106, '1010': 90, '0110': 85, '1001': 79, '1100': 78, '0011': 73, '1101': 29, '1000': 29, '0001': 28, '0010': 26, '1011': 26, '0100': 25, '1110': 23, '0111': 21})\n",
      "Counter({'1010': 521, '0101': 465, '0010': 4, '1101': 3, '1000': 3, '1011': 1, '1110': 1, '0100': 1, '0011': 1})\n",
      "Counter({'1010': 345, '0101': 313, '0100': 51, '1110': 42, '1101': 39, '0001': 35, '1000': 32, '1011': 32, '0010': 30, '0111': 29, '0000': 20, '1111': 15, '1100': 7, '1001': 4, '0011': 4, '0110': 2})\n",
      "Counter({'0101': 425, '1010': 420, '0110': 37, '1100': 32, '0011': 27, '1001': 25, '1110': 6, '1000': 5, '1101': 4, '1011': 4, '0001': 4, '0111': 3, '1111': 3, '0010': 2, '0100': 2, '0000': 1})\n",
      "Counter({'0101': 499, '1010': 485, '1000': 3, '1101': 3, '0001': 2, '1100': 2, '0100': 2, '1011': 1, '0010': 1, '1110': 1, '0111': 1})\n",
      "Counter({'1010': 498, '0101': 469, '0011': 6, '1001': 4, '1101': 4, '0110': 4, '1110': 3, '0111': 3, '0001': 3, '1100': 2, '1011': 2, '0100': 1, '0010': 1})\n",
      "Counter({'1010': 499, '0101': 485, '1001': 3, '0011': 3, '1101': 3, '0100': 2, '1011': 2, '0111': 2, '0010': 1})\n",
      "Counter({'1010': 515, '0101': 474, '1110': 2, '0001': 2, '0010': 1, '1011': 1, '1000': 1, '1001': 1, '1101': 1, '0110': 1, '0111': 1})\n",
      "Counter({'1010': 497, '0101': 484, '1101': 4, '0010': 4, '0100': 2, '1110': 2, '0111': 2, '0011': 2, '1100': 1, '0001': 1, '1011': 1})\n",
      "Counter({'1010': 517, '0101': 470, '0010': 3, '1000': 2, '1101': 2, '0100': 2, '1110': 1, '0110': 1, '1001': 1, '1011': 1})\n",
      "Counter({'0101': 497, '1010': 489, '1110': 3, '1001': 2, '0001': 2, '1000': 2, '1100': 2, '1011': 1, '1101': 1, '0111': 1})\n",
      "Counter({'1010': 156, '0101': 127, '0000': 125, '0110': 108, '1111': 105, '1001': 102, '1100': 96, '0011': 94, '1000': 15, '1110': 13, '0001': 13, '1101': 10, '0111': 10, '0010': 10, '0100': 9, '1011': 7})\n",
      "Counter({'1010': 478, '0101': 476, '0100': 8, '1101': 7, '0001': 6, '1011': 6, '1110': 6, '0010': 5, '0111': 4, '1000': 4})\n",
      "Counter({'1010': 507, '0101': 478, '1110': 3, '1101': 3, '0001': 2, '1000': 2, '1001': 1, '0111': 1, '0010': 1, '0100': 1, '0110': 1})\n",
      "Counter({'0000': 139, '0110': 127, '1010': 126, '1111': 124, '0101': 115, '0011': 108, '1100': 106, '1001': 100, '0001': 10, '1000': 10, '1110': 9, '1011': 7, '0100': 6, '0111': 5, '0010': 5, '1101': 3})\n",
      "Counter({'1010': 311, '0101': 298, '0111': 45, '0001': 44, '1101': 39, '1110': 38, '1000': 32, '0100': 29, '1011': 28, '0010': 27, '1111': 25, '0000': 24, '0110': 21, '1100': 16, '0011': 13, '1001': 10})\n",
      "Counter({'0101': 519, '1010': 471, '0100': 3, '1101': 2, '0111': 2, '0010': 2, '1011': 1})\n",
      "Counter({'1010': 362, '0101': 346, '0001': 32, '0010': 31, '1000': 31, '0100': 30, '1101': 28, '1110': 27, '1011': 27, '0111': 23, '0000': 15, '1111': 13, '0011': 11, '1001': 10, '1100': 8, '0110': 6})\n",
      "Counter({'0101': 465, '1010': 441, '0001': 18, '1101': 14, '1011': 12, '0111': 11, '0010': 10, '1110': 9, '1000': 8, '0100': 7, '0011': 2, '1100': 1, '0110': 1, '0000': 1})\n",
      "Counter({'0101': 501, '1010': 457, '1011': 8, '1101': 8, '1000': 7, '0010': 6, '0111': 4, '0001': 3, '0100': 2, '1110': 2, '1100': 1, '0011': 1})\n",
      "Counter({'0101': 491, '1010': 476, '1110': 7, '1011': 7, '0001': 5, '0100': 4, '0010': 3, '1101': 2, '0111': 1, '0000': 1, '0110': 1, '1000': 1, '1100': 1})\n",
      "Counter({'0101': 504, '1010': 472, '1101': 7, '1000': 6, '0110': 4, '0100': 2, '0111': 2, '0010': 1, '0001': 1, '1100': 1})\n",
      "Counter({'1010': 491, '0101': 487, '0111': 4, '1110': 4, '0100': 3, '1011': 3, '0011': 2, '0001': 2, '1001': 1, '0010': 1, '1101': 1, '1100': 1})\n"
     ]
    },
    {
     "name": "stdout",
     "output_type": "stream",
     "text": [
      "Counter({'0101': 508, '1010': 475, '0111': 5, '1110': 3, '0100': 2, '1101': 2, '1000': 2, '0010': 1, '1011': 1, '0001': 1})\n",
      "Counter({'1111': 157, '0000': 150, '1010': 108, '0101': 92, '1110': 59, '1101': 50, '1000': 47, '0010': 46, '0100': 44, '0111': 43, '1011': 36, '0001': 35, '0011': 35, '0110': 33, '1001': 33, '1100': 32})\n",
      "Counter({'1111': 337, '0000': 285, '0001': 35, '0010': 34, '0110': 33, '1110': 32, '1011': 32, '1000': 31, '0111': 28, '1101': 27, '1100': 24, '0011': 23, '1001': 21, '1010': 21, '0100': 21, '0101': 16})\n",
      "Counter({'1010': 497, '0101': 487, '0001': 3, '1110': 3, '0111': 3, '0010': 2, '0100': 2, '1011': 1, '1101': 1, '1000': 1})\n",
      "Counter({'1010': 248, '0101': 241, '0111': 52, '0010': 49, '0000': 45, '0011': 41, '1110': 37, '1101': 36, '1011': 35, '1100': 33, '0110': 33, '1111': 33, '1001': 31, '0001': 31, '0100': 31, '1000': 24})\n",
      "Counter({'0101': 406, '1010': 400, '1110': 32, '1011': 27, '0100': 25, '0111': 18, '0010': 15, '0011': 13, '1100': 12, '0110': 11, '1000': 11, '1101': 9, '0001': 8, '1111': 5, '1001': 5, '0000': 3})\n",
      "Counter({'1010': 508, '0101': 474, '1101': 4, '0001': 3, '0111': 2, '0110': 2, '0010': 2, '1110': 2, '0100': 1, '1001': 1, '1000': 1})\n",
      "Counter({'1010': 461, '0101': 431, '0100': 19, '0001': 12, '0111': 11, '0110': 9, '1001': 9, '1110': 8, '1101': 7, '0010': 7, '1011': 7, '1000': 6, '1100': 5, '0011': 4, '0000': 2, '1111': 2})\n",
      "Counter({'1010': 487, '0101': 475, '1100': 5, '0011': 4, '0100': 4, '0010': 4, '1001': 4, '0110': 4, '1101': 3, '0001': 3, '1000': 2, '0111': 2, '1011': 2, '1110': 1})\n",
      "Counter({'1010': 494, '0101': 486, '1101': 4, '0111': 2, '0100': 2, '1011': 2, '0001': 2, '1000': 2, '1110': 1, '0010': 1, '0011': 1, '0110': 1, '1100': 1, '1001': 1})\n",
      "Counter({'1010': 513, '0101': 475, '0010': 2, '1101': 2, '1001': 1, '0001': 1, '1100': 1, '0000': 1, '0111': 1, '1000': 1, '1110': 1, '1011': 1})\n",
      "Counter({'1010': 512, '0101': 469, '1011': 4, '0100': 3, '0111': 3, '1101': 2, '1000': 2, '0010': 1, '0011': 1, '0001': 1, '1100': 1, '1110': 1})\n",
      "Counter({'1010': 502, '0101': 481, '1000': 4, '0010': 3, '0001': 3, '0011': 2, '0111': 2, '1001': 1, '0110': 1, '1101': 1})\n",
      "Counter({'1010': 515, '0101': 471, '0100': 5, '0001': 4, '1000': 1, '1101': 1, '0111': 1, '1011': 1, '1110': 1})\n",
      "Counter({'0101': 480, '1010': 471, '0110': 11, '0011': 6, '1001': 6, '1100': 5, '0001': 5, '1000': 4, '1110': 3, '0010': 3, '1011': 2, '0100': 2, '1101': 1, '0111': 1})\n",
      "Counter({'1010': 507, '0101': 442, '1001': 13, '1100': 12, '0110': 6, '0011': 5, '0001': 3, '1101': 3, '0100': 2, '1000': 2, '0111': 2, '0010': 1, '1011': 1, '1110': 1})\n",
      "Counter({'0101': 510, '1010': 472, '0001': 7, '0111': 5, '1011': 2, '1110': 2, '1100': 1, '1101': 1})\n",
      "Counter({'1010': 518, '0101': 459, '1011': 4, '1100': 4, '0100': 3, '0001': 3, '0111': 3, '1000': 2, '1001': 2, '0110': 1, '0010': 1})\n",
      "The Objective after optimization is 3.966\n"
     ]
    }
   ],
   "source": [
    "from blueqat import Circuit\n",
    "import numpy as np\n",
    "from scipy.optimize import minimize\n",
    "\n",
    "n=4\n",
    "graph=[(0,1),(0,3),(1,2),(2,3)]\n",
    "\n",
    "def U_C(state,gamma):\n",
    " for edge in graph:\n",
    "  j=edge[0]\n",
    "  k=edge[1]\n",
    "  state.cx[j,k]\n",
    "  state.rz(gamma)[k]\n",
    "  state.cx[j,k]\n",
    "\n",
    "def U_B(state,beta):\n",
    " for i in range(n):\n",
    "  state.rx(beta*2)[i]\n",
    "\n",
    "def state_preparation(state,gamma,beta):\n",
    " state.h[:]\n",
    " for i in range(steps):\n",
    "  U_C(state,gamma[i])\n",
    "  U_B(state,beta[i])\n",
    " return state\n",
    "\n",
    "def exp_val(state,edge):\n",
    " shots=1000\n",
    " c=state.run(shots=shots)\n",
    " expval=0\n",
    " for i in c:\n",
    "  if (i[edge[0]]=='0' and i[edge[1]]=='0') or (i[edge[0]]=='1' and i[edge[1]]=='1'):\n",
    "   expval+=c[i]/shots\n",
    "   \n",
    "  else:\n",
    "   expval-=c[i]/shots\n",
    "    \n",
    " return expval\n",
    "\n",
    "def max_cut(params):\n",
    " gamma=[]\n",
    " beta=[]\n",
    " for i in range(len(params)):\n",
    "  if i%2==0:\n",
    "   gamma.append(params[i])\n",
    "  else:\n",
    "   beta.append(params[i])\n",
    " state=Circuit(n)\n",
    " circ=state_preparation(state,gamma,beta)\n",
    " circ.m[:]\n",
    " print(circ.run(shots=1000))\n",
    " obj=0\n",
    " for edge in graph:\n",
    "  obj=obj - 0.5 * (1 - exp_val(circ,edge))\n",
    " return obj\n",
    "\n",
    "steps=2\n",
    "init_params = 0.01 * np.random.rand(2,2)\n",
    "tol_val=1e-2 # The tolerance value for the optimization procedure\n",
    "result=minimize(max_cut,init_params, method=\"Powell\" , tol=tol_val)\n",
    "print(f'The Objective after optimization is {-result.fun}')"
   ]
  },
  {
   "cell_type": "code",
   "execution_count": 90,
   "metadata": {},
   "outputs": [
    {
     "name": "stdout",
     "output_type": "stream",
     "text": [
      "Collecting dwave-cloud-client\n",
      "  Downloading dwave_cloud_client-0.7.2-py2.py3-none-any.whl (83 kB)\n",
      "\u001b[K     |████████████████████████████████| 83 kB 21 kB/s eta 0:00:01\n",
      "\u001b[?25hRequirement already satisfied: six>=1.10 in ./opt/anaconda3/lib/python3.7/site-packages (from dwave-cloud-client) (1.12.0)\n",
      "Collecting plucky>=0.4.3\n",
      "  Downloading plucky-0.4.3-py2.py3-none-any.whl (10 kB)\n",
      "Collecting homebase>=1.0\n",
      "  Downloading homebase-1.0.1-py2.py3-none-any.whl (11 kB)\n",
      "Requirement already satisfied: python-dateutil>=2.7 in ./opt/anaconda3/lib/python3.7/site-packages (from dwave-cloud-client) (2.8.0)\n",
      "Requirement already satisfied: click>=7.0 in ./opt/anaconda3/lib/python3.7/site-packages (from dwave-cloud-client) (7.0)\n",
      "Requirement already satisfied: requests[socks]>=2.18 in ./opt/anaconda3/lib/python3.7/site-packages (from dwave-cloud-client) (2.22.0)\n",
      "Requirement already satisfied: certifi>=2017.4.17 in ./opt/anaconda3/lib/python3.7/site-packages (from requests[socks]>=2.18->dwave-cloud-client) (2019.9.11)\n",
      "Requirement already satisfied: urllib3!=1.25.0,!=1.25.1,<1.26,>=1.21.1 in ./opt/anaconda3/lib/python3.7/site-packages (from requests[socks]>=2.18->dwave-cloud-client) (1.24.2)\n",
      "Requirement already satisfied: chardet<3.1.0,>=3.0.2 in ./opt/anaconda3/lib/python3.7/site-packages (from requests[socks]>=2.18->dwave-cloud-client) (3.0.4)\n",
      "Requirement already satisfied: idna<2.9,>=2.5 in ./opt/anaconda3/lib/python3.7/site-packages (from requests[socks]>=2.18->dwave-cloud-client) (2.8)\n",
      "Requirement already satisfied: PySocks!=1.5.7,>=1.5.6; extra == \"socks\" in ./opt/anaconda3/lib/python3.7/site-packages (from requests[socks]>=2.18->dwave-cloud-client) (1.7.1)\n",
      "Installing collected packages: plucky, homebase, dwave-cloud-client\n",
      "Successfully installed dwave-cloud-client-0.7.2 homebase-1.0.1 plucky-0.4.3\n",
      "Note: you may need to restart the kernel to use updated packages.\n"
     ]
    }
   ],
   "source": [
    "pip install dwave-cloud-client"
   ]
  },
  {
   "cell_type": "code",
   "execution_count": null,
   "metadata": {},
   "outputs": [],
   "source": []
  }
 ],
 "metadata": {
  "kernelspec": {
   "display_name": "Python 3",
   "language": "python",
   "name": "python3"
  },
  "language_info": {
   "codemirror_mode": {
    "name": "ipython",
    "version": 3
   },
   "file_extension": ".py",
   "mimetype": "text/x-python",
   "name": "python",
   "nbconvert_exporter": "python",
   "pygments_lexer": "ipython3",
   "version": "3.7.7"
  }
 },
 "nbformat": 4,
 "nbformat_minor": 2
}
