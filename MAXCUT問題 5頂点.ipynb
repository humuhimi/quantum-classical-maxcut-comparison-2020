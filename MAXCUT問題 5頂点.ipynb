{
 "cells": [
  {
   "cell_type": "code",
   "execution_count": 2,
   "metadata": {},
   "outputs": [],
   "source": [
    "# ------ Import necessary packages ----\n",
    "# 必要なパッケージのインポート\n",
    "from collections import defaultdict\n",
    "\t\n",
    "\n",
    "from dwave.system.samplers import DWaveSampler\n",
    "from dwave.system.composites import EmbeddingComposite\n",
    "import networkx as nx\n",
    "\t\n",
    "import matplotlib\n",
    "matplotlib.use(\"agg\")\n",
    "from matplotlib import pyplot as plt"
   ]
  },
  {
   "cell_type": "code",
   "execution_count": 9,
   "metadata": {},
   "outputs": [
    {
     "name": "stdout",
     "output_type": "stream",
     "text": [
      "[(1, 2), (1, 3), (2, 4), (3, 4), (3, 5), (4, 5)]\n"
     ]
    }
   ],
   "source": [
    "\t# ------- Set up our graph -------\n",
    "# \tグラフのセットアップ\n",
    "\n",
    "\t# Create empty graph\n",
    "#     空のグラフ用意\n",
    "\tG = nx.Graph()\n",
    "\t\n",
    "\n",
    "\t# Add edges to the graph (also adds nodes)\n",
    "#     辺をいれる同様に頂点を形成\n",
    "\tG.add_edges_from([(1,2),(1,3),(2,4),(3,4),(3,5),(4,5)])\n",
    "print( G.edges)"
   ]
  },
  {
   "cell_type": "code",
   "execution_count": 4,
   "metadata": {},
   "outputs": [
    {
     "name": "stdout",
     "output_type": "stream",
     "text": [
      "defaultdict(<class 'int'>, {(1, 1): -1, (2, 2): -1, (1, 2): 2})\n",
      "defaultdict(<class 'int'>, {(1, 1): -2, (2, 2): -1, (1, 2): 2, (3, 3): -1, (1, 3): 2})\n",
      "defaultdict(<class 'int'>, {(1, 1): -2, (2, 2): -2, (1, 2): 2, (3, 3): -1, (1, 3): 2, (4, 4): -1, (2, 4): 2})\n",
      "defaultdict(<class 'int'>, {(1, 1): -2, (2, 2): -2, (1, 2): 2, (3, 3): -2, (1, 3): 2, (4, 4): -2, (2, 4): 2, (3, 4): 2})\n",
      "defaultdict(<class 'int'>, {(1, 1): -2, (2, 2): -2, (1, 2): 2, (3, 3): -3, (1, 3): 2, (4, 4): -2, (2, 4): 2, (3, 4): 2, (5, 5): -1, (3, 5): 2})\n",
      "defaultdict(<class 'int'>, {(1, 1): -2, (2, 2): -2, (1, 2): 2, (3, 3): -3, (1, 3): 2, (4, 4): -3, (2, 4): 2, (3, 4): 2, (5, 5): -2, (3, 5): 2, (4, 5): 2})\n"
     ]
    }
   ],
   "source": [
    "\t# ------- Set up our QUBO dictionary -------\n",
    "# \tQUBO 辞書をセットアップ\n",
    "\n",
    "\t# Initialize our Q matrix\n",
    "#     Q行列を準備\n",
    "\tQ = defaultdict(int)\n",
    "\t\n",
    "\n",
    "\t# Update Q matrix for every edge in the graph\n",
    "#     それぞれのQ行列をアップデート\n",
    "\tfor i, j in G.edges:\n",
    "\t    Q[(i,i)]+= -1\n",
    "\t    Q[(j,j)]+= -1\n",
    "\t    Q[(i,j)]+= 2\n",
    "    \n",
    "    print(Q)\n",
    "    \n"
   ]
  },
  {
   "cell_type": "code",
   "execution_count": 8,
   "metadata": {},
   "outputs": [
    {
     "name": "stdout",
     "output_type": "stream",
     "text": [
      "Sample(sample={1: 0, 2: 1, 3: 1, 4: 0, 5: 0}, energy=-5.0, num_occurrences=1, chain_break_fraction=0.0)\n",
      "Sample(sample={1: 1, 2: 0, 3: 0, 4: 1, 5: 0}, energy=-5.0, num_occurrences=3, chain_break_fraction=0.0)\n",
      "Sample(sample={1: 0, 2: 1, 3: 1, 4: 0, 5: 1}, energy=-5.0, num_occurrences=2, chain_break_fraction=0.0)\n",
      "Sample(sample={1: 1, 2: 0, 3: 0, 4: 1, 5: 1}, energy=-5.0, num_occurrences=1, chain_break_fraction=0.0)\n",
      "Sample(sample={1: 1, 2: 1, 3: 0, 4: 0, 5: 1}, energy=-4.0, num_occurrences=1, chain_break_fraction=0.0)\n",
      "Sample(sample={1: 0, 2: 1, 3: 0, 4: 0, 5: 1}, energy=-4.0, num_occurrences=1, chain_break_fraction=0.0)\n",
      "Sample(sample={1: 1, 2: 0, 3: 1, 4: 1, 5: 0}, energy=-4.0, num_occurrences=1, chain_break_fraction=0.0)\n"
     ]
    }
   ],
   "source": [
    "\t# ------- Run our QUBO on the QPU -------\n",
    "#     QUBOとQPUを走らせる\n",
    "\t# Set up QPU parameters\n",
    "#     QPUのパラメータをセットアップ\n",
    "\tchainstrength = 8\n",
    "\tnumruns = 10\n",
    "\t\n",
    "\n",
    "\t# Run the QUBO on the solver from your config file\n",
    "#  　CONFIGファイルのソルバーからQUBO を走らせる\n",
    "\tsampler = EmbeddingComposite(DWaveSampler(solver={'qpu': True}))\n",
    "\tresponse = sampler.sample_qubo(Q, chain_strength=chainstrength, num_reads=numruns)\n",
    "\tenergies = iter(response.data())\n",
    "for i in energies:\n",
    "    print(i)"
   ]
  },
  {
   "cell_type": "code",
   "execution_count": 5,
   "metadata": {},
   "outputs": [
    {
     "name": "stdout",
     "output_type": "stream",
     "text": [
      "------------------------------------------------------------\n",
      "          Set 0          Set 1    Energy        Cut Size    \n",
      "------------------------------------------------------------\n",
      "      [2, 3, 5]         [1, 4]     -5.0             5       \n",
      "         [1, 4]      [2, 3, 5]     -5.0             5       \n",
      "         [2, 3]      [1, 4, 5]     -5.0             5       \n",
      "         [3, 4]      [1, 2, 5]     -4.0             4       \n",
      "      [2, 3, 4]         [1, 5]     -4.0             4       \n"
     ]
    }
   ],
   "source": [
    "\t# ------- Print results to user -------\n",
    "#     結果を出力\n",
    "\tprint('-' * 60)\n",
    "\tprint('{:>15s}{:>15s}{:^15s}{:^15s}'.format('Set 0','Set 1','Energy','Cut Size'))\n",
    "\tprint('-' * 60)\n",
    "\tfor line in response:\n",
    "\t    S0 = [k for k,v in line.items() if v == 0]\n",
    "\t    S1 = [k for k,v in line.items() if v == 1]\n",
    "\t    E = next(energies).energy\n",
    "\t    print('{:>15s}{:>15s}{:^15s}{:^15s}'.format(str(S0),str(S1),str(E),str(int(-1*E))))\n"
   ]
  },
  {
   "cell_type": "code",
   "execution_count": 13,
   "metadata": {},
   "outputs": [
    {
     "name": "stdout",
     "output_type": "stream",
     "text": [
      "[(1, 2), (1, 3), (2, 4), (3, 4), (3, 5)]\n",
      "[(4, 5)]\n"
     ]
    }
   ],
   "source": [
    "\t# ------- Display results to user -------\n",
    "\t# Grab best result\n",
    "\t# Note: \"best\" result is the result with the lowest energy\n",
    "\t# Note2: the look up table (lut) is a dictionary, where the key is the node index\n",
    "\t#   and the value is the set label. For example, lut[5] = 1, indicates that\n",
    "\t#   node 5 is in set 1 (S1).\n",
    "\tlut = response.lowest().first.sample\n",
    "\t\n",
    "\n",
    "\t# Interpret best result in terms of nodes and edges\n",
    "#     この処理のあと、D-Waveの管理画面にログインするとUsage Summaryがでてくるが、少し使ったことがわかる\n",
    "\tS0 = [node for node in G.nodes if not lut[node]]\n",
    "\tS1 = [node for node in G.nodes if lut[node]]\n",
    "\tcut_edges = [(u, v) for u, v in G.edges if lut[u]!=lut[v]]\n",
    "\tuncut_edges = [(u, v) for u, v in G.edges if lut[u]==lut[v]]\n",
    "\n",
    "print(cut_edges)\n",
    "print(uncut_edges)"
   ]
  },
  {
   "cell_type": "code",
   "execution_count": 8,
   "metadata": {},
   "outputs": [
    {
     "name": "stdout",
     "output_type": "stream",
     "text": [
      "\n",
      "Your plot is saved to maxcut_plot.png\n"
     ]
    }
   ],
   "source": [
    "\t# Display best result\n",
    "\tpos = nx.spring_layout(G)\n",
    "\tnx.draw_networkx_nodes(G, pos, nodelist=S0, node_color='r')\n",
    "\tnx.draw_networkx_nodes(G, pos, nodelist=S1, node_color='c')\n",
    "\tnx.draw_networkx_edges(G, pos, edgelist=cut_edges, style='dashdot', alpha=0.5, width=3)\n",
    "\tnx.draw_networkx_edges(G, pos, edgelist=uncut_edges, style='solid', width=3)\n",
    "\tnx.draw_networkx_labels(G, pos)\n",
    "\t\n",
    "\n",
    "\tfilename = \"maxcut_plot.png\"\n",
    "\tplt.savefig(filename, bbox_inches='tight')\n",
    "\tprint(\"\\nYour plot is saved to {}\".format(filename))\n"
   ]
  },
  {
   "cell_type": "code",
   "execution_count": null,
   "metadata": {},
   "outputs": [],
   "source": []
  }
 ],
 "metadata": {
  "kernelspec": {
   "display_name": "Python 3",
   "language": "python",
   "name": "python3"
  },
  "language_info": {
   "codemirror_mode": {
    "name": "ipython",
    "version": 3
   },
   "file_extension": ".py",
   "mimetype": "text/x-python",
   "name": "python",
   "nbconvert_exporter": "python",
   "pygments_lexer": "ipython3",
   "version": "3.7.7"
  }
 },
 "nbformat": 4,
 "nbformat_minor": 4
}
