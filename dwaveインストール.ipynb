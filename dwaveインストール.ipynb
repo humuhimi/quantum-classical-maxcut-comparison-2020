{
 "cells": [
  {
   "cell_type": "code",
   "execution_count": 8,
   "metadata": {
    "scrolled": true
   },
   "outputs": [
    {
     "name": "stdout",
     "output_type": "stream",
     "text": [
      "Using endpoint: https://cloud.dwavesys.com/sapi/\n",
      "Using solver: DW_2000Q_6\n",
      "Error: Sampling error: SolverFailureError('Problem not accepted because user masa19951009@gmail.com has no remaining quota in project DEV') (code: 10)\n"
     ]
    }
   ],
   "source": [
    "!dwave ping"
   ]
  },
  {
   "cell_type": "code",
   "execution_count": null,
   "metadata": {},
   "outputs": [
    {
     "name": "stdout",
     "output_type": "stream",
     "text": [
      "Found existing configuration file: /Users/humu/Library/Application Support/dwave/dwave.conf\r\n",
      "Configuration file path [/Users/humu/Library/Application Support/dwave/dwave.conf]: "
     ]
    }
   ],
   "source": [
    "!dwave config create"
   ]
  },
  {
   "cell_type": "code",
   "execution_count": null,
   "metadata": {},
   "outputs": [
    {
     "name": "stdout",
     "output_type": "stream",
     "text": [
      "Found existing configuration file: /Users/humu/Library/Application Support/dwave/dwave.conf\r\n",
      "Configuration file path [/Users/humu/Library/Application Support/dwave/dwave.conf]: "
     ]
    }
   ],
   "source": [
    "!dwave config create"
   ]
  },
  {
   "cell_type": "code",
   "execution_count": 2,
   "metadata": {},
   "outputs": [
    {
     "name": "stdout",
     "output_type": "stream",
     "text": [
      "aaaaa\n"
     ]
    }
   ],
   "source": [
    "print(\"aaaaa\")"
   ]
  },
  {
   "cell_type": "code",
   "execution_count": 3,
   "metadata": {},
   "outputs": [
    {
     "name": "stdout",
     "output_type": "stream",
     "text": [
      "be careful\n"
     ]
    }
   ],
   "source": [
    "# \"\"is 2 ,# is 3 () is 8\n",
    "print(\"be careful\")"
   ]
  },
  {
   "cell_type": "code",
   "execution_count": 4,
   "metadata": {},
   "outputs": [
    {
     "name": "stdout",
     "output_type": "stream",
     "text": [
      "------------------------------------------------------------\n",
      "          Set 0          Set 1    Energy        Cut Size    \n",
      "------------------------------------------------------------\n",
      "      [1, 4, 5]         [2, 3]     -5.0             5       \n",
      "         [2, 3]      [1, 4, 5]     -5.0             5       \n",
      "      [2, 3, 5]         [1, 4]     -5.0             5       \n",
      "         [3, 4]      [1, 2, 5]     -4.0             4       \n",
      "      [1, 2, 3]         [4, 5]     -3.0             3       \n",
      "      [1, 3, 5]         [2, 4]     -3.0             3       \n",
      "\n",
      "Your plot is saved to maxcut_plot.png\n"
     ]
    }
   ],
   "source": [
    "# Copyright 2019 D-Wave Systems, Inc.\n",
    "#\n",
    "# Licensed under the Apache License, Version 2.0 (the \"License\");\n",
    "# you may not use this file except in compliance with the License.\n",
    "# You may obtain a copy of the License at\n",
    "#\n",
    "#     http://www.apache.org/licenses/LICENSE-2.0\n",
    "#\n",
    "# Unless required by applicable law or agreed to in writing, software\n",
    "# distributed under the License is distributed on an \"AS IS\" BASIS,\n",
    "# WITHOUT WARRANTIES OR CONDITIONS OF ANY KIND, either express or implied.\n",
    "# See the License for the specific language governing permissions and\n",
    "# limitations under the License.\n",
    "\n",
    "# ------ Import necessary packages ----\n",
    "from collections import defaultdict\n",
    "\n",
    "from dwave.system.samplers import DWaveSampler\n",
    "from dwave.system.composites import EmbeddingComposite\n",
    "import networkx as nx\n",
    "\n",
    "import matplotlib\n",
    "matplotlib.use(\"agg\")\n",
    "from matplotlib import pyplot as plt\n",
    "\n",
    "# ------- Set up our graph -------\n",
    "\n",
    "# Create empty graph\n",
    "G = nx.Graph()\n",
    "\n",
    "# Add edges to the graph (also adds nodes)\n",
    "G.add_edges_from([(1,2),(1,3),(2,4),(3,4),(3,5),(4,5)])\n",
    "\n",
    "# ------- Set up our QUBO dictionary -------\n",
    "\n",
    "# Initialize our Q matrix\n",
    "Q = defaultdict(int)\n",
    "\n",
    "# Update Q matrix for every edge in the graph\n",
    "for i, j in G.edges:\n",
    "    Q[(i,i)]+= -1\n",
    "    Q[(j,j)]+= -1\n",
    "    Q[(i,j)]+= 2\n",
    "\n",
    "# ------- Run our QUBO on the QPU -------\n",
    "# Set up QPU parameters\n",
    "chainstrength = 8\n",
    "numruns = 10\n",
    "\n",
    "# Run the QUBO on the solver from your config file\n",
    "sampler = EmbeddingComposite(DWaveSampler(solver={'qpu': True}))\n",
    "response = sampler.sample_qubo(Q, chain_strength=chainstrength, num_reads=numruns)\n",
    "energies = iter(response.data())\n",
    "\n",
    "# ------- Print results to user -------\n",
    "print('-' * 60)\n",
    "print('{:>15s}{:>15s}{:^15s}{:^15s}'.format('Set 0','Set 1','Energy','Cut Size'))\n",
    "print('-' * 60)\n",
    "for line in response:\n",
    "    S0 = [k for k,v in line.items() if v == 0]\n",
    "    S1 = [k for k,v in line.items() if v == 1]\n",
    "    E = next(energies).energy\n",
    "    print('{:>15s}{:>15s}{:^15s}{:^15s}'.format(str(S0),str(S1),str(E),str(int(-1*E))))\n",
    "\n",
    "# ------- Display results to user -------\n",
    "# Grab best result\n",
    "# Note: \"best\" result is the result with the lowest energy\n",
    "# Note2: the look up table (lut) is a dictionary, where the key is the node index\n",
    "#   and the value is the set label. For example, lut[5] = 1, indicates that\n",
    "#   node 5 is in set 1 (S1).\n",
    "lut = response.lowest().first.sample\n",
    "\n",
    "# Interpret best result in terms of nodes and edges\n",
    "S0 = [node for node in G.nodes if not lut[node]]\n",
    "S1 = [node for node in G.nodes if lut[node]]\n",
    "cut_edges = [(u, v) for u, v in G.edges if lut[u]!=lut[v]]\n",
    "uncut_edges = [(u, v) for u, v in G.edges if lut[u]==lut[v]]\n",
    "\n",
    "# Display best result\n",
    "pos = nx.spring_layout(G)\n",
    "nx.draw_networkx_nodes(G, pos, nodelist=S0, node_color='r')\n",
    "nx.draw_networkx_nodes(G, pos, nodelist=S1, node_color='c')\n",
    "nx.draw_networkx_edges(G, pos, edgelist=cut_edges, style='dashdot', alpha=0.5, width=3)\n",
    "nx.draw_networkx_edges(G, pos, edgelist=uncut_edges, style='solid', width=3)\n",
    "nx.draw_networkx_labels(G, pos)\n",
    "\n",
    "filename = \"maxcut_plot.png\"\n",
    "plt.savefig(filename, bbox_inches='tight')\n",
    "print(\"\\nYour plot is saved to {}\".format(filename))"
   ]
  },
  {
   "cell_type": "code",
   "execution_count": null,
   "metadata": {},
   "outputs": [],
   "source": [
    "import networkx as nx\n",
    "import cvxopt as cvx\n",
    "import cvxopt.lapack\n",
    "import numpy as np\n",
    "import picos as pic\n",
    "import networkx as nx\n",
    "import pylab\n",
    "import random\n",
    "import time\n",
    "import matplotlib.pyplot as plt\n",
    "from collections import defaultdict\n",
    "import warnings\n",
    "from dwave.system.samplers import DWaveSampler\n",
    "from dwave.system.composites import EmbeddingComposite\n",
    "\n",
    "for N in range(200, 210, 10):\n",
    "    M = N*2\n",
    "    C = nx.gnm_random_graph(N, M)\n",
    "\n",
    "    start = time.time()\n",
    "    # Create empty graph\n",
    "    G = nx.LCF_graph(N, [0, 0], int(N/2))\n",
    "\n",
    "    # Add edges to the graph (also adds nodes)\n",
    "    for x in C.edges():\n",
    "        G.add_edge(x[0], x[1])\n",
    "\n",
    "    # ------- Set up our QUBO dictionary -------\n",
    "\n",
    "    # Initialize our Q matrix\n",
    "    Q = defaultdict(int)\n",
    "\n",
    "    # Update Q matrix for every edge in the graph\n",
    "    for i, j in G.edges:\n",
    "        Q[(i, i)] += -1\n",
    "        Q[(j, j)] += -1\n",
    "        Q[(i, j)] += 2\n",
    "\n",
    "    # ------- Run our QUBO on the QPU -------\n",
    "    # Set up QPU parameters\n",
    "    chainstrength = 1\n",
    "    numruns = 1000\n",
    "\n",
    "    # Run the QUBO on the solver from your config file\n",
    "    sampler = EmbeddingComposite(DWaveSampler(\n",
    "        token=\"DEV-2d1f56ea19923664f36dd36fde103fe781b74d14\"))\n",
    "    response = sampler.sample_qubo(\n",
    "        Q, chain_strength=chainstrength, num_reads=numruns)\n",
    "    energies = iter(response.data())\n",
    "    # ------- Print results to user -------\n",
    "    for line in response:\n",
    "        S0 = [k for k, v in line.items() if v == 0]\n",
    "        S1 = [k for k, v in line.items() if v == 1]\n",
    "        E = next(energies).energy\n",
    "        print(\"Quantum(N: {} M: {}): {}\".format(N, M, str(int(-1*E))))\n",
    "        elapsed_time = time.time() - start\n",
    "        print(\"Quantum:elapsed_time:{0}\".format(elapsed_time) + \"[sec]\")\n",
    "        break"
   ]
  },
  {
   "cell_type": "code",
   "execution_count": null,
   "metadata": {},
   "outputs": [],
   "source": []
  }
 ],
 "metadata": {
  "kernelspec": {
   "display_name": "Python 3",
   "language": "python",
   "name": "python3"
  },
  "language_info": {
   "codemirror_mode": {
    "name": "ipython",
    "version": 3
   },
   "file_extension": ".py",
   "mimetype": "text/x-python",
   "name": "python",
   "nbconvert_exporter": "python",
   "pygments_lexer": "ipython3",
   "version": "3.7.7"
  }
 },
 "nbformat": 4,
 "nbformat_minor": 4
}
